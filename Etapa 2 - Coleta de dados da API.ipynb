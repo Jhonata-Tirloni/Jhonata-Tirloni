{
  "nbformat": 4,
  "nbformat_minor": 0,
  "metadata": {
    "colab": {
      "name": "Etapa 2 - Coleta de dados.ipynb",
      "provenance": [],
      "authorship_tag": "ABX9TyPaqRpqDv+T/e5MNL56FTED",
      "include_colab_link": true
    },
    "kernelspec": {
      "name": "python3",
      "display_name": "Python 3"
    },
    "language_info": {
      "name": "python"
    }
  },
  "cells": [
    {
      "cell_type": "markdown",
      "metadata": {
        "id": "view-in-github",
        "colab_type": "text"
      },
      "source": [
        "<a href=\"https://colab.research.google.com/github/Jhonata-Tirloni/Jhonata-Tirloni/blob/main/Etapa%202%20-%20Coleta%20de%20dados%20da%20API.ipynb\" target=\"_parent\"><img src=\"https://colab.research.google.com/assets/colab-badge.svg\" alt=\"Open In Colab\"/></a>"
      ]
    },
    {
      "cell_type": "code",
      "execution_count": null,
      "metadata": {
        "id": "MdhS1j4uh_QL"
      },
      "outputs": [],
      "source": [
        ""
      ]
    }
  ]
}